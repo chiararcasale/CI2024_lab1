{
  "cells": [
    {
      "cell_type": "markdown",
      "metadata": {
        "id": "nNjOZaVHJ9w-"
      },
      "source": [
        "Copyright **`(c)`** 2024 Giovanni Squillero `<giovanni.squillero@polito.it>`  \n",
        "[`https://github.com/squillero/computational-intelligence`](https://github.com/squillero/computational-intelligence)  \n",
        "Free for personal or classroom use; see [`LICENSE.md`](https://github.com/squillero/computational-intelligence/blob/master/LICENSE.md) for details.  "
      ]
    },
    {
      "cell_type": "markdown",
      "metadata": {
        "id": "TIdi9gPbJ9xA"
      },
      "source": [
        "# Set Cover problem\n",
        "\n",
        "See: https://en.wikipedia.org/wiki/Set_cover_problem"
      ]
    },
    {
      "cell_type": "code",
      "execution_count": 2,
      "metadata": {
        "id": "ezo_G1vBJ9xA"
      },
      "outputs": [],
      "source": [
        "from random import random, seed\n",
        "from itertools import product\n",
        "import numpy as np\n",
        "\n",
        "from icecream import ic\n",
        "from tqdm.auto import tqdm"
      ]
    },
    {
      "cell_type": "markdown",
      "source": [
        "## Reproducible Initialization\n",
        "\n",
        "If you want to get reproducible results, use `rng` (and restart the kernel); for non-reproducible ones, use `np.random`."
      ],
      "metadata": {
        "id": "4-6TA1jeSYpH"
      }
    },
    {
      "cell_type": "code",
      "source": [
        "UNIVERSE_SIZE = 1000\n",
        "NUM_SETS = 100\n",
        "DENSITY = 0.2\n",
        "\n",
        "rng = np.random.Generator(np.random.PCG64([UNIVERSE_SIZE, NUM_SETS, int(10_000* DENSITY)]))"
      ],
      "metadata": {
        "id": "6N0qii1nSaxY"
      },
      "execution_count": 15,
      "outputs": []
    },
    {
      "cell_type": "code",
      "source": [
        "# DON'T EDIT THESE LINES!\n",
        "\n",
        "SETS = np.random.random((NUM_SETS, UNIVERSE_SIZE)) < DENSITY\n",
        "for s in range(UNIVERSE_SIZE):\n",
        "    if not np.any(SETS[:, s]):\n",
        "        SETS[np.random.randint(NUM_SETS), s] = True\n",
        "COSTS = np.power(SETS.sum(axis=1), 1.1)"
      ],
      "metadata": {
        "id": "l5kWQI8WScdB"
      },
      "execution_count": 16,
      "outputs": []
    },
    {
      "cell_type": "markdown",
      "metadata": {
        "id": "B9YAy5XuJ9xD"
      },
      "source": [
        "## Helper Functions"
      ]
    },
    {
      "cell_type": "code",
      "execution_count": 17,
      "metadata": {
        "id": "7JmKWc1XJ9xD"
      },
      "outputs": [],
      "source": [
        "def valid(solution):\n",
        "    \"\"\"Checks wether solution is valid (ie. covers all universe)\"\"\"\n",
        "    return np.all(np.logical_or.reduce(SETS[solution]))\n",
        "\n",
        "\n",
        "def cost(solution):\n",
        "    \"\"\"Returns the cost of a solution (to be minimized)\"\"\"\n",
        "    return COSTS[solution].sum()\n",
        "\n",
        "\n",
        "def fitness(solution: np.ndarray)-> float:\n",
        "  return (valid(solution),-cost(solution))"
      ]
    },
    {
      "cell_type": "markdown",
      "source": [
        "## Algorithm 1: Random Mutation Hill Climbing\n",
        "This is the first algorithm showed in class by the professor. Here I run it for the dimensions chosen to compare its performance to other algorithms. Instead of starting with `solution = rng.random(NUM_SETS) <  1`, I start with `solution = rng.random(NUM_SETS) <  .2`, and change the starting solution until I find a valid solution."
      ],
      "metadata": {
        "id": "5y3NXVanSjBp"
      }
    },
    {
      "cell_type": "code",
      "source": [
        "def tweak(solution: np.ndarray)-> np.ndarray:\n",
        "  new_sol = solution.copy()\n",
        "  index = np.random.randint(0, NUM_SETS)\n",
        "  new_sol[index] = not new_sol[index]\n",
        "  return new_sol"
      ],
      "metadata": {
        "id": "gaHO2yDnS5h6"
      },
      "execution_count": 18,
      "outputs": []
    },
    {
      "cell_type": "code",
      "source": [
        "solution = rng.random(NUM_SETS) <  .2\n",
        "\n",
        "while not valid(np.where(solution)[0]):\n",
        "  solution = np.random.rand(NUM_SETS) < .2\n",
        "\n",
        "solution_fitness = fitness(solution)\n",
        "ic(fitness(solution))\n",
        "\n",
        "for steps in range(10000):\n",
        "  new_solution = tweak(solution)\n",
        "  new_solution_fitness = fitness(new_solution)\n",
        "\n",
        "  if new_solution_fitness > solution_fitness:\n",
        "    solution = new_solution\n",
        "    solution_fitness = new_solution_fitness\n",
        "\n",
        "ic(fitness(solution))"
      ],
      "metadata": {
        "colab": {
          "base_uri": "https://localhost:8080/"
        },
        "id": "n5F6_bTlS7IE",
        "outputId": "3dd0b7b0-25a9-4ed3-f3f5-64a8a36c73ca"
      },
      "execution_count": 19,
      "outputs": [
        {
          "output_type": "stream",
          "name": "stderr",
          "text": [
            "ic| fitness(solution): (True, -9226.990267728956)\n",
            "ic| fitness(solution): (True, -6460.043211505017)\n"
          ]
        },
        {
          "output_type": "execute_result",
          "data": {
            "text/plain": [
              "(True, -6460.043211505017)"
            ]
          },
          "metadata": {},
          "execution_count": 19
        }
      ]
    },
    {
      "cell_type": "markdown",
      "source": [
        "## Algorithm 2: RMHC with multiple mutations\n",
        "Similar considerations to RMHC."
      ],
      "metadata": {
        "id": "ATAGmXPeTegQ"
      }
    },
    {
      "cell_type": "code",
      "source": [
        "def multiple_mutation(solution: np.ndarray)-> np.ndarray:\n",
        "  mask = rng.random(NUM_SETS) < .01\n",
        "  new_sol = np.logical_xor(solution, mask)\n",
        "  return new_sol"
      ],
      "metadata": {
        "id": "svuefvmbTXwz"
      },
      "execution_count": 20,
      "outputs": []
    },
    {
      "cell_type": "code",
      "source": [
        "solution = rng.random(NUM_SETS) <  .2\n",
        "\n",
        "while not valid(np.where(solution)[0]):\n",
        "  solution = np.random.rand(NUM_SETS) < .2\n",
        "\n",
        "solution_fitness = fitness(solution)\n",
        "ic(fitness(solution))\n",
        "\n",
        "for steps in range(10000):\n",
        "  new_solution = multiple_mutation(solution)\n",
        "  new_solution_fitness = fitness(new_solution)\n",
        "\n",
        "  if new_solution_fitness > solution_fitness:\n",
        "    solution = new_solution\n",
        "    solution_fitness = new_solution_fitness\n",
        "\n",
        "ic(fitness(solution))"
      ],
      "metadata": {
        "colab": {
          "base_uri": "https://localhost:8080/"
        },
        "id": "2VmQgrArTmmp",
        "outputId": "d15c45b5-3414-4bc6-ab87-c216c61540d3"
      },
      "execution_count": 21,
      "outputs": [
        {
          "output_type": "stream",
          "name": "stderr",
          "text": [
            "ic| fitness(solution): (True, -8227.93445912554)\n",
            "ic| fitness(solution): (True, -6125.526733861613)\n"
          ]
        },
        {
          "output_type": "execute_result",
          "data": {
            "text/plain": [
              "(True, -6125.526733861613)"
            ]
          },
          "metadata": {},
          "execution_count": 21
        }
      ]
    },
    {
      "cell_type": "markdown",
      "source": [
        "## Algorithm 3 : Simulated Annealing\n",
        "Simulated annealing where as a tweak function I used the same from RMHC with multiple mutations."
      ],
      "metadata": {
        "id": "CRPd4soTVGyg"
      }
    },
    {
      "cell_type": "code",
      "source": [
        "def simulated_annealing(initial_temp=1000, cooling_rate=0.99, min_temp=1e-3, num_iterations=10000):\n",
        "\n",
        "    current_solution = np.random.rand(NUM_SETS) < .5\n",
        "    while not valid(np.where(current_solution)[0]):\n",
        "        current_solution = np.random.rand(NUM_SETS) < .5\n",
        "\n",
        "    current_fitness = fitness(current_solution)\n",
        "    temp = initial_temp\n",
        "\n",
        "    for _ in range(num_iterations):\n",
        "        if temp < min_temp:\n",
        "            break\n",
        "\n",
        "        neighbor_solution = multiple_mutation(current_solution)\n",
        "\n",
        "        if not valid(neighbor_solution):\n",
        "            continue\n",
        "\n",
        "        neighbor_fitness = fitness(neighbor_solution)\n",
        "        delta_cost = neighbor_fitness[1] - current_fitness[1]\n",
        "\n",
        "        if delta_cost > 0 or np.random.rand() < np.exp(delta_cost / temp):  # delta_cost is reversed due to -cost\n",
        "\n",
        "            if neighbor_fitness > current_fitness:\n",
        "                current_solution = neighbor_solution\n",
        "                current_fitness = neighbor_fitness\n",
        "\n",
        "        temp *= cooling_rate\n",
        "\n",
        "    return np.where(current_solution)[0]\n",
        "\n",
        "solution = simulated_annealing()\n",
        "ic(fitness(solution))"
      ],
      "metadata": {
        "colab": {
          "base_uri": "https://localhost:8080/"
        },
        "id": "PEYOq9A6VHDM",
        "outputId": "f9c8a42c-0b25-47e6-9782-c1bb7fbb9a66"
      },
      "execution_count": 22,
      "outputs": [
        {
          "output_type": "stream",
          "name": "stderr",
          "text": [
            "ic| fitness(solution): (True, -6687.776633281468)\n"
          ]
        },
        {
          "output_type": "execute_result",
          "data": {
            "text/plain": [
              "(True, -6687.776633281468)"
            ]
          },
          "metadata": {},
          "execution_count": 22
        }
      ]
    },
    {
      "cell_type": "markdown",
      "source": [
        "## Algorithm 4 : Greedy Algorithm with preselection\n",
        "Preselection:\n",
        "\n",
        "*   Select all `SETS` with cost = 0\n",
        "*   Select all `SETS` that are the only set covering a particular element\n",
        "\n",
        "(This hint was given by the prof in class)\n",
        "\n",
        "From the preselection the algorithm builds a solution with a greedy algorithm:\n",
        "\n",
        "*   Iterates through all sets that are not yet in the solution.\n",
        "*   Selects the set that covers the most uncovered elements for the least cost, based on the coverage-to-cost ratio (`coverage / COSTS[s])`\n",
        "* Adds that set to the solution and repeats until all elements are covered\n",
        "\n",
        "This algorithm has a better fitness than the other 3"
      ],
      "metadata": {
        "id": "wueqJ1iSUg2a"
      }
    },
    {
      "cell_type": "code",
      "source": [
        "def preselect_sets():\n",
        "    selected = set()\n",
        "\n",
        "    zero_cost_sets = np.where(COSTS == 0)[0]\n",
        "    selected.update(zero_cost_sets)\n",
        "\n",
        "    for element in range(UNIVERSE_SIZE):\n",
        "        sets_covering_element = np.where(SETS[:, element])[0]\n",
        "        if len(sets_covering_element) == 1:\n",
        "            selected.add(sets_covering_element[0])\n",
        "\n",
        "    preselected_solution = np.zeros(NUM_SETS, dtype=bool)  # Initialize as False (no sets selected)\n",
        "    preselected_solution[list(selected)] = True  # Mark preselected sets as True\n",
        "    return preselected_solution\n",
        "\n",
        "def uncovered_elements(solution):\n",
        "    \"\"\"Return a boolean array indicating which elements are not yet covered by the current solution\"\"\"\n",
        "    covered = np.logical_or.reduce(SETS[solution], axis=0)\n",
        "    return np.where(~covered)[0]\n",
        "\n",
        "def select_best_set(current_solution, uncovered):\n",
        "    \"\"\"Select the best set to add to the current solution to maximize coverage while minimizing cost\"\"\"\n",
        "    best_set = None\n",
        "    best_score = -np.inf\n",
        "\n",
        "    for s in range(NUM_SETS):\n",
        "        if current_solution[s]:\n",
        "            continue\n",
        "\n",
        "        coverage = np.sum(SETS[s, uncovered])\n",
        "        if coverage == 0:\n",
        "            continue\n",
        "\n",
        "        score = coverage / COSTS[s]\n",
        "\n",
        "        if score > best_score:\n",
        "            best_set = s\n",
        "            best_score = score\n",
        "\n",
        "    return best_set\n",
        "\n",
        "\n",
        "def build_solution():\n",
        "\n",
        "    current_solution = preselect_sets()\n",
        "    uncovered = uncovered_elements(current_solution)\n",
        "\n",
        "    while len(uncovered) > 0:\n",
        "        best_set = select_best_set(current_solution, uncovered)\n",
        "        if best_set is None:\n",
        "            raise ValueError(\"No set found to cover the remaining elements!\")\n",
        "\n",
        "        current_solution[best_set] = True\n",
        "        uncovered = uncovered_elements(current_solution)\n",
        "\n",
        "    return current_solution\n",
        "\n",
        "solution = build_solution()\n",
        "\n",
        "ic(fitness(solution))"
      ],
      "metadata": {
        "colab": {
          "base_uri": "https://localhost:8080/"
        },
        "id": "gQe7cMsRZhVv",
        "outputId": "2169f119-337f-48bb-e96e-764dc35ff9fd"
      },
      "execution_count": 23,
      "outputs": [
        {
          "output_type": "stream",
          "name": "stderr",
          "text": [
            "ic| fitness(solution): (True, -5872.583350284479)\n"
          ]
        },
        {
          "output_type": "execute_result",
          "data": {
            "text/plain": [
              "(True, -5872.583350284479)"
            ]
          },
          "metadata": {},
          "execution_count": 23
        }
      ]
    },
    {
      "cell_type": "markdown",
      "source": [
        "## Chosen algorithm : Greedy Algorithm with preselection\n",
        "\n",
        "Here the chosen algorithm is used for all the instances"
      ],
      "metadata": {
        "id": "M80Kroc_BaU8"
      }
    },
    {
      "cell_type": "code",
      "source": [
        "def preselect_sets(NUM_SETS, SETS, COSTS):\n",
        "    selected = set()\n",
        "\n",
        "    zero_cost_sets = np.where(COSTS == 0)[0]\n",
        "    selected.update(zero_cost_sets)\n",
        "\n",
        "    for element in range(UNIVERSE_SIZE):\n",
        "        sets_covering_element = np.where(SETS[:, element])[0]\n",
        "        if len(sets_covering_element) == 1:\n",
        "            selected.add(sets_covering_element[0])\n",
        "\n",
        "    preselected_solution = np.zeros(NUM_SETS, dtype=bool)  # Initialize as False (no sets selected)\n",
        "    preselected_solution[list(selected)] = True  # Mark preselected sets as True\n",
        "    return preselected_solution\n",
        "\n",
        "def uncovered_elements(solution, SETS):\n",
        "    \"\"\"Return a boolean array indicating which elements are not yet covered by the current solution\"\"\"\n",
        "    covered = np.logical_or.reduce(SETS[solution], axis=0)\n",
        "    return np.where(~covered)[0]\n",
        "\n",
        "def select_best_set(current_solution, uncovered, NUM_SETS, SETS, COSTS):\n",
        "    \"\"\"Select the best set to add to the current solution to maximize coverage while minimizing cost\"\"\"\n",
        "    best_set = None\n",
        "    best_score = -np.inf\n",
        "\n",
        "    for s in range(NUM_SETS):\n",
        "        if current_solution[s]:\n",
        "            continue\n",
        "\n",
        "        coverage = np.sum(SETS[s, uncovered])\n",
        "        if coverage == 0:\n",
        "            continue\n",
        "\n",
        "        score = coverage / COSTS[s]\n",
        "\n",
        "        if score > best_score:\n",
        "            best_set = s\n",
        "            best_score = score\n",
        "\n",
        "    return best_set\n",
        "\n",
        "\n",
        "def build_solution(NUM_SETS, SETS, COSTS):\n",
        "\n",
        "    current_solution = preselect_sets(NUM_SETS, SETS, COSTS)\n",
        "    uncovered = uncovered_elements(current_solution, SETS)\n",
        "\n",
        "    while len(uncovered) > 0:\n",
        "        best_set = select_best_set(current_solution, uncovered, NUM_SETS, SETS, COSTS)\n",
        "        if best_set is None:\n",
        "            raise ValueError(\"No set found to cover the remaining elements!\")\n",
        "\n",
        "        current_solution[best_set] = True\n",
        "        uncovered = uncovered_elements(current_solution, SETS)\n",
        "\n",
        "    return current_solution"
      ],
      "metadata": {
        "id": "475R5E2SMUxB"
      },
      "execution_count": 24,
      "outputs": []
    },
    {
      "cell_type": "code",
      "execution_count": 25,
      "metadata": {
        "colab": {
          "base_uri": "https://localhost:8080/"
        },
        "id": "OXaiQE3BJ9xF",
        "outputId": "ed5d8312-b2f1-4b73-eaee-ee65e4610800"
      },
      "outputs": [
        {
          "output_type": "stream",
          "name": "stdout",
          "text": [
            "Best fitness instance1: (True, -260.94571926897447)\n",
            "------------------\n",
            "Best fitness instance2: (True, -5556.8189611439675)\n",
            "------------------\n",
            "Best fitness instance3: (True, -97715.85450367707)\n",
            "------------------\n",
            "Best fitness instance4: (True, -1527629.1147761052)\n",
            "------------------\n",
            "Best fitness instance5: (True, -1772263.773201974)\n",
            "------------------\n",
            "Best fitness instance6: (True, -1760130.9299662877)\n",
            "------------------\n"
          ]
        }
      ],
      "source": [
        "instances = [\n",
        "    {\"UNIVERSE_SIZE\": 100, \"NUM_SETS\": 10, \"DENSITY\": 0.2},\n",
        "    {\"UNIVERSE_SIZE\": 1_000, \"NUM_SETS\": 100, \"DENSITY\": 0.2},\n",
        "    {\"UNIVERSE_SIZE\": 10_000, \"NUM_SETS\": 1_000, \"DENSITY\": 0.2},\n",
        "    {\"UNIVERSE_SIZE\": 100_000, \"NUM_SETS\": 10_000, \"DENSITY\": 0.1},\n",
        "    {\"UNIVERSE_SIZE\": 100_000, \"NUM_SETS\": 1_000, \"DENSITY\": 0.2},\n",
        "    {\"UNIVERSE_SIZE\": 100_000, \"NUM_SETS\": 10_000, \"DENSITY\": 0.3},\n",
        "]\n",
        "\n",
        "for i, instance in enumerate(instances, start=1):\n",
        "\n",
        "  UNIVERSE_SIZE = instance[\"UNIVERSE_SIZE\"]\n",
        "  NUM_SETS = instance[\"NUM_SETS\"]\n",
        "  DENSITY = instance[\"DENSITY\"]\n",
        "\n",
        "  rng = np.random.Generator(np.random.PCG64([UNIVERSE_SIZE, NUM_SETS, int(10_000* DENSITY)]))\n",
        "\n",
        "  # DON'T EDIT THESE LINES!\n",
        "\n",
        "  SETS = np.random.random((NUM_SETS, UNIVERSE_SIZE)) < DENSITY\n",
        "  for s in range(UNIVERSE_SIZE):\n",
        "      if not np.any(SETS[:, s]):\n",
        "          SETS[np.random.randint(NUM_SETS), s] = True\n",
        "  COSTS = np.power(SETS.sum(axis=1), 1.1)\n",
        "\n",
        "  best_solution = build_solution(NUM_SETS, SETS, COSTS)\n",
        "\n",
        "  print(f\"Best fitness instance{i}: {fitness(best_solution)}\")\n",
        "  print(\"------------------\")"
      ]
    }
  ],
  "metadata": {
    "kernelspec": {
      "display_name": "Python 3 (ipykernel)",
      "language": "python",
      "name": "python3"
    },
    "language_info": {
      "codemirror_mode": {
        "name": "ipython",
        "version": 3
      },
      "file_extension": ".py",
      "mimetype": "text/x-python",
      "name": "python",
      "nbconvert_exporter": "python",
      "pygments_lexer": "ipython3",
      "version": "3.12.5"
    },
    "colab": {
      "provenance": []
    }
  },
  "nbformat": 4,
  "nbformat_minor": 0
}